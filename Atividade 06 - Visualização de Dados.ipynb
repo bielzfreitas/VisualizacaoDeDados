{
  "nbformat": 4,
  "nbformat_minor": 0,
  "metadata": {
    "colab": {
      "name": "Gabriel Freitas - Atividade06_USJT_2020_GERDADOS_visual_dados.ipynb",
      "provenance": [],
      "collapsed_sections": [
        "MVoDdvxsSvis",
        "YCH06QcTS2bQ"
      ]
    },
    "kernelspec": {
      "display_name": "Python 3",
      "language": "python",
      "name": "python3"
    },
    "language_info": {
      "codemirror_mode": {
        "name": "ipython",
        "version": 3
      },
      "file_extension": ".py",
      "mimetype": "text/x-python",
      "name": "python",
      "nbconvert_exporter": "python",
      "pygments_lexer": "ipython3",
      "version": "3.6.4"
    }
  },
  "cells": [
    {
      "cell_type": "markdown",
      "metadata": {
        "colab_type": "text",
        "id": "T4FFxL1iWEIl"
      },
      "source": [
        "![logo_usjt.png](https://www.usjt.br/app/themes/mobister/dist/images/sao-judas-universidade.png)"
      ]
    },
    {
      "cell_type": "markdown",
      "metadata": {
        "colab_type": "text",
        "id": "n14P8A5QzMZ2"
      },
      "source": [
        "# Gerenciamento de Dados e Informação\n",
        "- **Professores**: \n",
        "- Anderson Sanches <anderson.sanches@saojudas.br>\n",
        "- Sergio Bonato <antonio.bonato@saojudas.br>"
      ]
    },
    {
      "cell_type": "markdown",
      "metadata": {
        "colab_type": "text",
        "id": "jx7VpamzjRpB"
      },
      "source": [
        "# Atividade06 - Visualização de Dados em Python\n",
        "\n",
        "**Conteúdo**\n",
        "- Gráficos - Tipos de Visualizações\n",
        "- Pandas - Visualização de dados\n",
        "- Seaborn - Dados Estatísticos\n",
        "- Bokeh - Mapas"
      ]
    },
    {
      "cell_type": "code",
      "metadata": {
        "id": "O-QhY_-pu1Qz",
        "colab_type": "code",
        "colab": {}
      },
      "source": [
        "import warnings\n",
        "warnings.filterwarnings('ignore')\n",
        "warnings.simplefilter('ignore')"
      ],
      "execution_count": 0,
      "outputs": []
    },
    {
      "cell_type": "code",
      "metadata": {
        "colab_type": "code",
        "id": "2lGLhd4NW58p",
        "outputId": "0fac8a9d-5571-45da-bdfe-c83467d7549b",
        "colab": {
          "base_uri": "https://localhost:8080/",
          "height": 122
        }
      },
      "source": [
        "#configuração do notebook para acesso aos datasets\n",
        "from google.colab import drive\n",
        "drive.mount('/content/drive')\n",
        "path = '/content/drive/My Drive/aula_pandas/datasets'"
      ],
      "execution_count": 10,
      "outputs": [
        {
          "output_type": "stream",
          "text": [
            "Go to this URL in a browser: https://accounts.google.com/o/oauth2/auth?client_id=947318989803-6bn6qk8qdgf4n4g3pfee6491hc0brc4i.apps.googleusercontent.com&redirect_uri=urn%3aietf%3awg%3aoauth%3a2.0%3aoob&response_type=code&scope=email%20https%3a%2f%2fwww.googleapis.com%2fauth%2fdocs.test%20https%3a%2f%2fwww.googleapis.com%2fauth%2fdrive%20https%3a%2f%2fwww.googleapis.com%2fauth%2fdrive.photos.readonly%20https%3a%2f%2fwww.googleapis.com%2fauth%2fpeopleapi.readonly\n",
            "\n",
            "Enter your authorization code:\n",
            "··········\n",
            "Mounted at /content/drive\n"
          ],
          "name": "stdout"
        }
      ]
    },
    {
      "cell_type": "code",
      "metadata": {
        "id": "it0xP8iqu1Q7",
        "colab_type": "code",
        "colab": {}
      },
      "source": [
        "#configuração do notebook para acesso local aos datasets\n",
        "path = './datasets/'"
      ],
      "execution_count": 0,
      "outputs": []
    },
    {
      "cell_type": "code",
      "metadata": {
        "colab_type": "code",
        "id": "9zraffTenGuX",
        "colab": {}
      },
      "source": [
        "# Importacao das bibliotecas e configuracoes gerais\n",
        "import pandas as pd\n",
        "import seaborn as sns\n",
        "import matplotlib.pyplot as plt\n",
        "\n",
        "# Set seaborn aesthetic parameters to defaults\n",
        "sns.set()\n",
        "sns.set_context(\"notebook\")\n",
        "sns.set(rc={'figure.figsize':(9.4, 6.7)})"
      ],
      "execution_count": 0,
      "outputs": []
    },
    {
      "cell_type": "markdown",
      "metadata": {
        "colab_type": "text",
        "id": "S3Zz2SQqJJ_P"
      },
      "source": [
        "### Dataset de indicadores\n"
      ]
    },
    {
      "cell_type": "code",
      "metadata": {
        "colab_type": "code",
        "id": "zqNugHT6PuEA",
        "outputId": "7d52f70f-4353-4630-e8d2-17a060d6462d",
        "colab": {
          "base_uri": "https://localhost:8080/",
          "height": 359
        }
      },
      "source": [
        "referencias = ['jan', 'fev', 'mar', 'abr', 'mai', 'jun', 'jul', 'ago', 'set', 'out']\n",
        "cdi = [0.54, 0.49, 0.47, 0.52, 0.54, 0.47, 0.57, 0.50, 0.46, 0.06]\n",
        "ipca = [0.32, 0.43, 0.75, 0.57, 0.13, 0.01, 0.19, 0.11, -0.04, 0.65]\n",
        "igpm = [0.01, 0.88, 1.26, 0.92, 0.45, 0.80, 0.40, -0.67, -0.01, 0.25 ]\n",
        "ibov = [10.82, -1.86, -0.18, 0.98, 0.70, 4.06, 0.84, -0.67, 3.57, 0.65]\n",
        "\n",
        "df_indicadores = pd.DataFrame(data={'IPCA': ipca, 'CDI': cdi, 'IGPM': igpm, \n",
        "                                    'IBOV' : ibov}, index=referencias)\n",
        "df_indicadores"
      ],
      "execution_count": 13,
      "outputs": [
        {
          "output_type": "execute_result",
          "data": {
            "text/html": [
              "<div>\n",
              "<style scoped>\n",
              "    .dataframe tbody tr th:only-of-type {\n",
              "        vertical-align: middle;\n",
              "    }\n",
              "\n",
              "    .dataframe tbody tr th {\n",
              "        vertical-align: top;\n",
              "    }\n",
              "\n",
              "    .dataframe thead th {\n",
              "        text-align: right;\n",
              "    }\n",
              "</style>\n",
              "<table border=\"1\" class=\"dataframe\">\n",
              "  <thead>\n",
              "    <tr style=\"text-align: right;\">\n",
              "      <th></th>\n",
              "      <th>IPCA</th>\n",
              "      <th>CDI</th>\n",
              "      <th>IGPM</th>\n",
              "      <th>IBOV</th>\n",
              "    </tr>\n",
              "  </thead>\n",
              "  <tbody>\n",
              "    <tr>\n",
              "      <th>jan</th>\n",
              "      <td>0.32</td>\n",
              "      <td>0.54</td>\n",
              "      <td>0.01</td>\n",
              "      <td>10.82</td>\n",
              "    </tr>\n",
              "    <tr>\n",
              "      <th>fev</th>\n",
              "      <td>0.43</td>\n",
              "      <td>0.49</td>\n",
              "      <td>0.88</td>\n",
              "      <td>-1.86</td>\n",
              "    </tr>\n",
              "    <tr>\n",
              "      <th>mar</th>\n",
              "      <td>0.75</td>\n",
              "      <td>0.47</td>\n",
              "      <td>1.26</td>\n",
              "      <td>-0.18</td>\n",
              "    </tr>\n",
              "    <tr>\n",
              "      <th>abr</th>\n",
              "      <td>0.57</td>\n",
              "      <td>0.52</td>\n",
              "      <td>0.92</td>\n",
              "      <td>0.98</td>\n",
              "    </tr>\n",
              "    <tr>\n",
              "      <th>mai</th>\n",
              "      <td>0.13</td>\n",
              "      <td>0.54</td>\n",
              "      <td>0.45</td>\n",
              "      <td>0.70</td>\n",
              "    </tr>\n",
              "    <tr>\n",
              "      <th>jun</th>\n",
              "      <td>0.01</td>\n",
              "      <td>0.47</td>\n",
              "      <td>0.80</td>\n",
              "      <td>4.06</td>\n",
              "    </tr>\n",
              "    <tr>\n",
              "      <th>jul</th>\n",
              "      <td>0.19</td>\n",
              "      <td>0.57</td>\n",
              "      <td>0.40</td>\n",
              "      <td>0.84</td>\n",
              "    </tr>\n",
              "    <tr>\n",
              "      <th>ago</th>\n",
              "      <td>0.11</td>\n",
              "      <td>0.50</td>\n",
              "      <td>-0.67</td>\n",
              "      <td>-0.67</td>\n",
              "    </tr>\n",
              "    <tr>\n",
              "      <th>set</th>\n",
              "      <td>-0.04</td>\n",
              "      <td>0.46</td>\n",
              "      <td>-0.01</td>\n",
              "      <td>3.57</td>\n",
              "    </tr>\n",
              "    <tr>\n",
              "      <th>out</th>\n",
              "      <td>0.65</td>\n",
              "      <td>0.06</td>\n",
              "      <td>0.25</td>\n",
              "      <td>0.65</td>\n",
              "    </tr>\n",
              "  </tbody>\n",
              "</table>\n",
              "</div>"
            ],
            "text/plain": [
              "     IPCA   CDI  IGPM   IBOV\n",
              "jan  0.32  0.54  0.01  10.82\n",
              "fev  0.43  0.49  0.88  -1.86\n",
              "mar  0.75  0.47  1.26  -0.18\n",
              "abr  0.57  0.52  0.92   0.98\n",
              "mai  0.13  0.54  0.45   0.70\n",
              "jun  0.01  0.47  0.80   4.06\n",
              "jul  0.19  0.57  0.40   0.84\n",
              "ago  0.11  0.50 -0.67  -0.67\n",
              "set -0.04  0.46 -0.01   3.57\n",
              "out  0.65  0.06  0.25   0.65"
            ]
          },
          "metadata": {
            "tags": []
          },
          "execution_count": 13
        }
      ]
    },
    {
      "cell_type": "markdown",
      "metadata": {
        "colab_type": "text",
        "id": "O-EZZetDLJVJ"
      },
      "source": [
        "#### **Exercício 1**\n",
        "\n",
        "Apresentar o gráfico dos indicadores IBOV e CDI dos últimos seis meses da série"
      ]
    },
    {
      "cell_type": "code",
      "metadata": {
        "colab_type": "code",
        "id": "J7V44ACnLa8Z",
        "outputId": "50eab7d0-192d-441b-811b-fdca8fca2e5c",
        "colab": {
          "base_uri": "https://localhost:8080/",
          "height": 432
        }
      },
      "source": [
        "# solução\n",
        "df_indicadores[['IBOV', 'CDI']].plot()"
      ],
      "execution_count": 14,
      "outputs": [
        {
          "output_type": "execute_result",
          "data": {
            "text/plain": [
              "<matplotlib.axes._subplots.AxesSubplot at 0x7f12697307f0>"
            ]
          },
          "metadata": {
            "tags": []
          },
          "execution_count": 14
        },
        {
          "output_type": "display_data",
          "data": {
            "image/png": "[encoded data removed]",
            "text/plain": [
              "<Figure size 676.8x482.4 with 1 Axes>"
            ]
          },
          "metadata": {
            "tags": []
          }
        }
      ]
    },
    {
      "cell_type": "markdown",
      "metadata": {
        "colab_type": "text",
        "id": "AfO7qR-dMf8n"
      },
      "source": [
        "### Dataset da Bolsa Eletrônica de Compras"
      ]
    },
    {
      "cell_type": "code",
      "metadata": {
        "colab_type": "code",
        "id": "Wag5G35WOKVm",
        "outputId": "c11842d8-6756-4240-fa6e-b35a41ef7f3c",
        "colab": {
          "base_uri": "https://localhost:8080/",
          "height": 395
        }
      },
      "source": [
        "# carregamento do dataset da BEC e geração de informações de quantidade negociada\n",
        "df_bec = pd.read_excel(path+'03-DS_BEC.xlsx', error_bad_lines=False)\n",
        "df_bec = df_bec[['Cód Desc Órgão', 'Mês Ano Encerramento', 'Cod Desc Fornecedor', \n",
        "                 'Descrição Procedimento Compra', 'Cod Desc Item', \n",
        "                 'Quantidade de Item','Valor Unitário Negociado', \n",
        "                 'Valor Total Negociado em R$']]\n",
        "df_bec['Quantidade Negociada'] = df_bec['Valor Total Negociado em R$'] / df_bec[\n",
        "    'Valor Unitário Negociado']  \n",
        "df_bec.head(4)"
      ],
      "execution_count": 15,
      "outputs": [
        {
          "output_type": "error",
          "ename": "FileNotFoundError",
          "evalue": "ignored",
          "traceback": [
            "\u001b[0;31m---------------------------------------------------------------------------\u001b[0m",
            "\u001b[0;31mFileNotFoundError\u001b[0m                         Traceback (most recent call last)",
            "\u001b[0;32m<ipython-input-15-4406198c07f7>\u001b[0m in \u001b[0;36m<module>\u001b[0;34m()\u001b[0m\n\u001b[0;32m----> 1\u001b[0;31m \u001b[0mdf_bec\u001b[0m \u001b[0;34m=\u001b[0m \u001b[0mpd\u001b[0m\u001b[0;34m.\u001b[0m\u001b[0mread_excel\u001b[0m\u001b[0;34m(\u001b[0m\u001b[0mpath\u001b[0m\u001b[0;34m+\u001b[0m\u001b[0;34m'03-DS_BEC.xlsx'\u001b[0m\u001b[0;34m,\u001b[0m \u001b[0merror_bad_lines\u001b[0m\u001b[0;34m=\u001b[0m\u001b[0;32mFalse\u001b[0m\u001b[0;34m)\u001b[0m\u001b[0;34m\u001b[0m\u001b[0;34m\u001b[0m\u001b[0m\n\u001b[0m\u001b[1;32m      2\u001b[0m df_bec = df_bec[['Cód Desc Órgão', 'Mês Ano Encerramento', 'Cod Desc Fornecedor', \n\u001b[1;32m      3\u001b[0m                  \u001b[0;34m'Descrição Procedimento Compra'\u001b[0m\u001b[0;34m,\u001b[0m \u001b[0;34m'Cod Desc Item'\u001b[0m\u001b[0;34m,\u001b[0m\u001b[0;34m\u001b[0m\u001b[0;34m\u001b[0m\u001b[0m\n\u001b[1;32m      4\u001b[0m                  \u001b[0;34m'Quantidade de Item'\u001b[0m\u001b[0;34m,\u001b[0m\u001b[0;34m'Valor Unitário Negociado'\u001b[0m\u001b[0;34m,\u001b[0m\u001b[0;34m\u001b[0m\u001b[0;34m\u001b[0m\u001b[0m\n\u001b[1;32m      5\u001b[0m                  'Valor Total Negociado em R$']]\n",
            "\u001b[0;32m/usr/local/lib/python3.6/dist-packages/pandas/io/excel/_base.py\u001b[0m in \u001b[0;36mread_excel\u001b[0;34m(io, sheet_name, header, names, index_col, usecols, squeeze, dtype, engine, converters, true_values, false_values, skiprows, nrows, na_values, keep_default_na, verbose, parse_dates, date_parser, thousands, comment, skipfooter, convert_float, mangle_dupe_cols, **kwds)\u001b[0m\n\u001b[1;32m    302\u001b[0m \u001b[0;34m\u001b[0m\u001b[0m\n\u001b[1;32m    303\u001b[0m     \u001b[0;32mif\u001b[0m \u001b[0;32mnot\u001b[0m \u001b[0misinstance\u001b[0m\u001b[0;34m(\u001b[0m\u001b[0mio\u001b[0m\u001b[0;34m,\u001b[0m \u001b[0mExcelFile\u001b[0m\u001b[0;34m)\u001b[0m\u001b[0;34m:\u001b[0m\u001b[0;34m\u001b[0m\u001b[0;34m\u001b[0m\u001b[0m\n\u001b[0;32m--> 304\u001b[0;31m         \u001b[0mio\u001b[0m \u001b[0;34m=\u001b[0m \u001b[0mExcelFile\u001b[0m\u001b[0;34m(\u001b[0m\u001b[0mio\u001b[0m\u001b[0;34m,\u001b[0m \u001b[0mengine\u001b[0m\u001b[0;34m=\u001b[0m\u001b[0mengine\u001b[0m\u001b[0;34m)\u001b[0m\u001b[0;34m\u001b[0m\u001b[0;34m\u001b[0m\u001b[0m\n\u001b[0m\u001b[1;32m    305\u001b[0m     \u001b[0;32melif\u001b[0m \u001b[0mengine\u001b[0m \u001b[0;32mand\u001b[0m \u001b[0mengine\u001b[0m \u001b[0;34m!=\u001b[0m \u001b[0mio\u001b[0m\u001b[0;34m.\u001b[0m\u001b[0mengine\u001b[0m\u001b[0;34m:\u001b[0m\u001b[0;34m\u001b[0m\u001b[0;34m\u001b[0m\u001b[0m\n\u001b[1;32m    306\u001b[0m         raise ValueError(\n",
            "\u001b[0;32m/usr/local/lib/python3.6/dist-packages/pandas/io/excel/_base.py\u001b[0m in \u001b[0;36m__init__\u001b[0;34m(self, io, engine)\u001b[0m\n\u001b[1;32m    822\u001b[0m         \u001b[0mself\u001b[0m\u001b[0;34m.\u001b[0m\u001b[0m_io\u001b[0m \u001b[0;34m=\u001b[0m \u001b[0mstringify_path\u001b[0m\u001b[0;34m(\u001b[0m\u001b[0mio\u001b[0m\u001b[0;34m)\u001b[0m\u001b[0;34m\u001b[0m\u001b[0;34m\u001b[0m\u001b[0m\n\u001b[1;32m    823\u001b[0m \u001b[0;34m\u001b[0m\u001b[0m\n\u001b[0;32m--> 824\u001b[0;31m         \u001b[0mself\u001b[0m\u001b[0;34m.\u001b[0m\u001b[0m_reader\u001b[0m \u001b[0;34m=\u001b[0m \u001b[0mself\u001b[0m\u001b[0;34m.\u001b[0m\u001b[0m_engines\u001b[0m\u001b[0;34m[\u001b[0m\u001b[0mengine\u001b[0m\u001b[0;34m]\u001b[0m\u001b[0;34m(\u001b[0m\u001b[0mself\u001b[0m\u001b[0;34m.\u001b[0m\u001b[0m_io\u001b[0m\u001b[0;34m)\u001b[0m\u001b[0;34m\u001b[0m\u001b[0;34m\u001b[0m\u001b[0m\n\u001b[0m\u001b[1;32m    825\u001b[0m \u001b[0;34m\u001b[0m\u001b[0m\n\u001b[1;32m    826\u001b[0m     \u001b[0;32mdef\u001b[0m \u001b[0m__fspath__\u001b[0m\u001b[0;34m(\u001b[0m\u001b[0mself\u001b[0m\u001b[0;34m)\u001b[0m\u001b[0;34m:\u001b[0m\u001b[0;34m\u001b[0m\u001b[0;34m\u001b[0m\u001b[0m\n",
            "\u001b[0;32m/usr/local/lib/python3.6/dist-packages/pandas/io/excel/_xlrd.py\u001b[0m in \u001b[0;36m__init__\u001b[0;34m(self, filepath_or_buffer)\u001b[0m\n\u001b[1;32m     19\u001b[0m         \u001b[0merr_msg\u001b[0m \u001b[0;34m=\u001b[0m \u001b[0;34m\"Install xlrd >= 1.0.0 for Excel support\"\u001b[0m\u001b[0;34m\u001b[0m\u001b[0;34m\u001b[0m\u001b[0m\n\u001b[1;32m     20\u001b[0m         \u001b[0mimport_optional_dependency\u001b[0m\u001b[0;34m(\u001b[0m\u001b[0;34m\"xlrd\"\u001b[0m\u001b[0;34m,\u001b[0m \u001b[0mextra\u001b[0m\u001b[0;34m=\u001b[0m\u001b[0merr_msg\u001b[0m\u001b[0;34m)\u001b[0m\u001b[0;34m\u001b[0m\u001b[0;34m\u001b[0m\u001b[0m\n\u001b[0;32m---> 21\u001b[0;31m         \u001b[0msuper\u001b[0m\u001b[0;34m(\u001b[0m\u001b[0;34m)\u001b[0m\u001b[0;34m.\u001b[0m\u001b[0m__init__\u001b[0m\u001b[0;34m(\u001b[0m\u001b[0mfilepath_or_buffer\u001b[0m\u001b[0;34m)\u001b[0m\u001b[0;34m\u001b[0m\u001b[0;34m\u001b[0m\u001b[0m\n\u001b[0m\u001b[1;32m     22\u001b[0m \u001b[0;34m\u001b[0m\u001b[0m\n\u001b[1;32m     23\u001b[0m     \u001b[0;34m@\u001b[0m\u001b[0mproperty\u001b[0m\u001b[0;34m\u001b[0m\u001b[0;34m\u001b[0m\u001b[0m\n",
            "\u001b[0;32m/usr/local/lib/python3.6/dist-packages/pandas/io/excel/_base.py\u001b[0m in \u001b[0;36m__init__\u001b[0;34m(self, filepath_or_buffer)\u001b[0m\n\u001b[1;32m    351\u001b[0m             \u001b[0mself\u001b[0m\u001b[0;34m.\u001b[0m\u001b[0mbook\u001b[0m \u001b[0;34m=\u001b[0m \u001b[0mself\u001b[0m\u001b[0;34m.\u001b[0m\u001b[0mload_workbook\u001b[0m\u001b[0;34m(\u001b[0m\u001b[0mfilepath_or_buffer\u001b[0m\u001b[0;34m)\u001b[0m\u001b[0;34m\u001b[0m\u001b[0;34m\u001b[0m\u001b[0m\n\u001b[1;32m    352\u001b[0m         \u001b[0;32melif\u001b[0m \u001b[0misinstance\u001b[0m\u001b[0;34m(\u001b[0m\u001b[0mfilepath_or_buffer\u001b[0m\u001b[0;34m,\u001b[0m \u001b[0mstr\u001b[0m\u001b[0;34m)\u001b[0m\u001b[0;34m:\u001b[0m\u001b[0;34m\u001b[0m\u001b[0;34m\u001b[0m\u001b[0m\n\u001b[0;32m--> 353\u001b[0;31m             \u001b[0mself\u001b[0m\u001b[0;34m.\u001b[0m\u001b[0mbook\u001b[0m \u001b[0;34m=\u001b[0m \u001b[0mself\u001b[0m\u001b[0;34m.\u001b[0m\u001b[0mload_workbook\u001b[0m\u001b[0;34m(\u001b[0m\u001b[0mfilepath_or_buffer\u001b[0m\u001b[0;34m)\u001b[0m\u001b[0;34m\u001b[0m\u001b[0;34m\u001b[0m\u001b[0m\n\u001b[0m\u001b[1;32m    354\u001b[0m         \u001b[0;32melif\u001b[0m \u001b[0misinstance\u001b[0m\u001b[0;34m(\u001b[0m\u001b[0mfilepath_or_buffer\u001b[0m\u001b[0;34m,\u001b[0m \u001b[0mbytes\u001b[0m\u001b[0;34m)\u001b[0m\u001b[0;34m:\u001b[0m\u001b[0;34m\u001b[0m\u001b[0;34m\u001b[0m\u001b[0m\n\u001b[1;32m    355\u001b[0m             \u001b[0mself\u001b[0m\u001b[0;34m.\u001b[0m\u001b[0mbook\u001b[0m \u001b[0;34m=\u001b[0m \u001b[0mself\u001b[0m\u001b[0;34m.\u001b[0m\u001b[0mload_workbook\u001b[0m\u001b[0;34m(\u001b[0m\u001b[0mBytesIO\u001b[0m\u001b[0;34m(\u001b[0m\u001b[0mfilepath_or_buffer\u001b[0m\u001b[0;34m)\u001b[0m\u001b[0;34m)\u001b[0m\u001b[0;34m\u001b[0m\u001b[0;34m\u001b[0m\u001b[0m\n",
            "\u001b[0;32m/usr/local/lib/python3.6/dist-packages/pandas/io/excel/_xlrd.py\u001b[0m in \u001b[0;36mload_workbook\u001b[0;34m(self, filepath_or_buffer)\u001b[0m\n\u001b[1;32m     34\u001b[0m             \u001b[0;32mreturn\u001b[0m \u001b[0mopen_workbook\u001b[0m\u001b[0;34m(\u001b[0m\u001b[0mfile_contents\u001b[0m\u001b[0;34m=\u001b[0m\u001b[0mdata\u001b[0m\u001b[0;34m)\u001b[0m\u001b[0;34m\u001b[0m\u001b[0;34m\u001b[0m\u001b[0m\n\u001b[1;32m     35\u001b[0m         \u001b[0;32melse\u001b[0m\u001b[0;34m:\u001b[0m\u001b[0;34m\u001b[0m\u001b[0;34m\u001b[0m\u001b[0m\n\u001b[0;32m---> 36\u001b[0;31m             \u001b[0;32mreturn\u001b[0m \u001b[0mopen_workbook\u001b[0m\u001b[0;34m(\u001b[0m\u001b[0mfilepath_or_buffer\u001b[0m\u001b[0;34m)\u001b[0m\u001b[0;34m\u001b[0m\u001b[0;34m\u001b[0m\u001b[0m\n\u001b[0m\u001b[1;32m     37\u001b[0m \u001b[0;34m\u001b[0m\u001b[0m\n\u001b[1;32m     38\u001b[0m     \u001b[0;34m@\u001b[0m\u001b[0mproperty\u001b[0m\u001b[0;34m\u001b[0m\u001b[0;34m\u001b[0m\u001b[0m\n",
            "\u001b[0;32m/usr/local/lib/python3.6/dist-packages/xlrd/__init__.py\u001b[0m in \u001b[0;36mopen_workbook\u001b[0;34m(filename, logfile, verbosity, use_mmap, file_contents, encoding_override, formatting_info, on_demand, ragged_rows)\u001b[0m\n\u001b[1;32m    114\u001b[0m         \u001b[0mpeek\u001b[0m \u001b[0;34m=\u001b[0m \u001b[0mfile_contents\u001b[0m\u001b[0;34m[\u001b[0m\u001b[0;34m:\u001b[0m\u001b[0mpeeksz\u001b[0m\u001b[0;34m]\u001b[0m\u001b[0;34m\u001b[0m\u001b[0;34m\u001b[0m\u001b[0m\n\u001b[1;32m    115\u001b[0m     \u001b[0;32melse\u001b[0m\u001b[0;34m:\u001b[0m\u001b[0;34m\u001b[0m\u001b[0;34m\u001b[0m\u001b[0m\n\u001b[0;32m--> 116\u001b[0;31m         \u001b[0;32mwith\u001b[0m \u001b[0mopen\u001b[0m\u001b[0;34m(\u001b[0m\u001b[0mfilename\u001b[0m\u001b[0;34m,\u001b[0m \u001b[0;34m\"rb\"\u001b[0m\u001b[0;34m)\u001b[0m \u001b[0;32mas\u001b[0m \u001b[0mf\u001b[0m\u001b[0;34m:\u001b[0m\u001b[0;34m\u001b[0m\u001b[0;34m\u001b[0m\u001b[0m\n\u001b[0m\u001b[1;32m    117\u001b[0m             \u001b[0mpeek\u001b[0m \u001b[0;34m=\u001b[0m \u001b[0mf\u001b[0m\u001b[0;34m.\u001b[0m\u001b[0mread\u001b[0m\u001b[0;34m(\u001b[0m\u001b[0mpeeksz\u001b[0m\u001b[0;34m)\u001b[0m\u001b[0;34m\u001b[0m\u001b[0;34m\u001b[0m\u001b[0m\n\u001b[1;32m    118\u001b[0m     \u001b[0;32mif\u001b[0m \u001b[0mpeek\u001b[0m \u001b[0;34m==\u001b[0m \u001b[0;34mb\"PK\\x03\\x04\"\u001b[0m\u001b[0;34m:\u001b[0m \u001b[0;31m# a ZIP file\u001b[0m\u001b[0;34m\u001b[0m\u001b[0;34m\u001b[0m\u001b[0m\n",
            "\u001b[0;31mFileNotFoundError\u001b[0m: [Errno 2] No such file or directory: './datasets/03-DS_BEC.xlsx'"
          ]
        }
      ]
    },
    {
      "cell_type": "markdown",
      "metadata": {
        "colab_type": "text",
        "id": "MVoDdvxsSvis"
      },
      "source": [
        "#### Exercício 2\n",
        "\n",
        "Apresentar o boxplot do Valor Unitário Negociado referente ao item '2903881 - PAPEL SULFITE DE PAPELARIA,FORMATO A4,(210X297)MM,75G,BRANCO'\n"
      ]
    },
    {
      "cell_type": "code",
      "metadata": {
        "colab_type": "code",
        "id": "yj-lH6WsxCPR",
        "outputId": "e88f932d-c293-43a8-f2de-25fd121b6c02",
        "colab": {
          "base_uri": "https://localhost:8080/",
          "height": 181
        }
      },
      "source": [
        "# solução\n",
        "df_bec.loc[df_bec['Cod Desc Item'] == '2903881 - PAPEL SULFITE DE PAPELARIA,FORMATO A4,(210X297)MM,75G,BRANCO', \n",
        "           'Valor Unitário Negociado'].plot.hist(bins=20)"
      ],
      "execution_count": 0,
      "outputs": [
        {
          "output_type": "error",
          "ename": "NameError",
          "evalue": "ignored",
          "traceback": [
            "\u001b[0;31m---------------------------------------------------------------------------\u001b[0m",
            "\u001b[0;31mNameError\u001b[0m                                 Traceback (most recent call last)",
            "\u001b[0;32m<ipython-input-10-f9d5a094ddab>\u001b[0m in \u001b[0;36m<module>\u001b[0;34m()\u001b[0m\n\u001b[0;32m----> 1\u001b[0;31m df_bec.loc[df_bec['Cod Desc Item'] == '2903881 - PAPEL SULFITE DE PAPELARIA,FORMATO A4,(210X297)MM,75G,BRANCO', \n\u001b[0m\u001b[1;32m      2\u001b[0m            'Valor Unitário Negociado'].plot.hist(bins=20)\n",
            "\u001b[0;31mNameError\u001b[0m: name 'df_bec' is not defined"
          ]
        }
      ]
    },
    {
      "cell_type": "markdown",
      "metadata": {
        "colab_type": "text",
        "id": "YCH06QcTS2bQ"
      },
      "source": [
        "#### Exercício 3\n",
        "\n",
        "Apresentar o histograma do Valor Unitário Negociado referente ao item '2903881 - PAPEL SULFITE DE PAPELARIA,FORMATO A4,(210X297)MM,75G,BRANCO'"
      ]
    },
    {
      "cell_type": "code",
      "metadata": {
        "colab_type": "code",
        "id": "ArdOFw5Dyu31",
        "outputId": "adad96af-56b2-479f-bd1d-34cd48e63b9a",
        "colab": {
          "base_uri": "https://localhost:8080/",
          "height": 181
        }
      },
      "source": [
        "# solução\n",
        "df_bec.loc[df_bec['Cod Desc Item'] == '2903881 - PAPEL SULFITE DE PAPELARIA,FORMATO A4,(210X297)MM,75G,BRANCO', \n",
        "           'Valor Unitário Negociado'].plot.hist(bins=20)"
      ],
      "execution_count": 0,
      "outputs": [
        {
          "output_type": "error",
          "ename": "NameError",
          "evalue": "ignored",
          "traceback": [
            "\u001b[0;31m---------------------------------------------------------------------------\u001b[0m",
            "\u001b[0;31mNameError\u001b[0m                                 Traceback (most recent call last)",
            "\u001b[0;32m<ipython-input-11-f9d5a094ddab>\u001b[0m in \u001b[0;36m<module>\u001b[0;34m()\u001b[0m\n\u001b[0;32m----> 1\u001b[0;31m df_bec.loc[df_bec['Cod Desc Item'] == '2903881 - PAPEL SULFITE DE PAPELARIA,FORMATO A4,(210X297)MM,75G,BRANCO', \n\u001b[0m\u001b[1;32m      2\u001b[0m            'Valor Unitário Negociado'].plot.hist(bins=20)\n",
            "\u001b[0;31mNameError\u001b[0m: name 'df_bec' is not defined"
          ]
        }
      ]
    },
    {
      "cell_type": "markdown",
      "metadata": {
        "colab_type": "text",
        "id": "H_FPrCWDUF5s"
      },
      "source": [
        "### Uma visão da compra de papel sulfite\n"
      ]
    },
    {
      "cell_type": "markdown",
      "metadata": {
        "id": "wsQwXRhHu1RR",
        "colab_type": "text"
      },
      "source": [
        "A dataset sulfite é uma visão do dataset da BEC que inclui apenas compras de PAPEL SULFITE A4 BRANCO. Veja que a função lambda abaixo se encarrega desta seleção. Como resultado temos 6 tipos diferentes de itens. "
      ]
    },
    {
      "cell_type": "code",
      "metadata": {
        "scrolled": true,
        "id": "EiIrfHy2u1RS",
        "colab_type": "code",
        "outputId": "f522590e-f57a-49af-f161-7b3c8dcf5fe1",
        "colab": {
          "base_uri": "https://localhost:8080/",
          "height": 232
        }
      },
      "source": [
        "sulfite = df_bec[list(map(lambda x: x.find('PAPEL SULFITE') >=0 \n",
        "                          and x.find('A4') >=0 \n",
        "                          and x.find('BRANCO') >=0\n",
        "                          and x.find('MILIMETRADO') == -1\n",
        "                          , df_bec['Cod Desc Item']))]\n",
        "sulfite.groupby('Cod Desc Item')['Cod Desc Item'].count()"
      ],
      "execution_count": 16,
      "outputs": [
        {
          "output_type": "error",
          "ename": "NameError",
          "evalue": "ignored",
          "traceback": [
            "\u001b[0;31m---------------------------------------------------------------------------\u001b[0m",
            "\u001b[0;31mNameError\u001b[0m                                 Traceback (most recent call last)",
            "\u001b[0;32m<ipython-input-16-6218d364433f>\u001b[0m in \u001b[0;36m<module>\u001b[0;34m()\u001b[0m\n\u001b[0;32m----> 1\u001b[0;31m sulfite = df_bec[list(map(lambda x: x.find('PAPEL SULFITE') >=0 \n\u001b[0m\u001b[1;32m      2\u001b[0m                           \u001b[0;32mand\u001b[0m \u001b[0mx\u001b[0m\u001b[0;34m.\u001b[0m\u001b[0mfind\u001b[0m\u001b[0;34m(\u001b[0m\u001b[0;34m'A4'\u001b[0m\u001b[0;34m)\u001b[0m \u001b[0;34m>=\u001b[0m\u001b[0;36m0\u001b[0m\u001b[0;34m\u001b[0m\u001b[0;34m\u001b[0m\u001b[0m\n\u001b[1;32m      3\u001b[0m                           \u001b[0;32mand\u001b[0m \u001b[0mx\u001b[0m\u001b[0;34m.\u001b[0m\u001b[0mfind\u001b[0m\u001b[0;34m(\u001b[0m\u001b[0;34m'BRANCO'\u001b[0m\u001b[0;34m)\u001b[0m \u001b[0;34m>=\u001b[0m\u001b[0;36m0\u001b[0m\u001b[0;34m\u001b[0m\u001b[0;34m\u001b[0m\u001b[0m\n\u001b[1;32m      4\u001b[0m                           \u001b[0;32mand\u001b[0m \u001b[0mx\u001b[0m\u001b[0;34m.\u001b[0m\u001b[0mfind\u001b[0m\u001b[0;34m(\u001b[0m\u001b[0;34m'MILIMETRADO'\u001b[0m\u001b[0;34m)\u001b[0m \u001b[0;34m==\u001b[0m \u001b[0;34m-\u001b[0m\u001b[0;36m1\u001b[0m\u001b[0;34m\u001b[0m\u001b[0;34m\u001b[0m\u001b[0m\n\u001b[1;32m      5\u001b[0m                           , df_bec['Cod Desc Item']))]\n",
            "\u001b[0;31mNameError\u001b[0m: name 'df_bec' is not defined"
          ]
        }
      ]
    },
    {
      "cell_type": "markdown",
      "metadata": {
        "id": "aq12bNNgu1RV",
        "colab_type": "text"
      },
      "source": [
        "#### Exercício 4\n",
        "\n",
        "Usando o sns.barplot crie um gráfico de barras que mostre o valor total negociado por cada um dos 5 tipos de papel sulfite branco a4 não milimetrado. Use a melhor disposição para mostrar os dados (horizontal ou vertical)."
      ]
    },
    {
      "cell_type": "code",
      "metadata": {
        "id": "LzMrDjQ_u1RV",
        "colab_type": "code",
        "outputId": "b36f5f3e-8a32-4e2b-898c-351b0059a043",
        "colab": {
          "base_uri": "https://localhost:8080/",
          "height": 232
        }
      },
      "source": [
        "# solução\n",
        "sulfite = df_bec[list(map(lambda x: x.find('PAPEL SULFITE') >=0 \n",
        "                          and x.find('A4') >=0 \n",
        "                          and x.find('BRANCO') >=0\n",
        "                          and x.find('MILIMETRADO') == -1\n",
        "                          , df_bec['Cod Desc Item']))]\n",
        "sulfite.plot.bar()"
      ],
      "execution_count": 0,
      "outputs": [
        {
          "output_type": "error",
          "ename": "NameError",
          "evalue": "ignored",
          "traceback": [
            "\u001b[0;31m---------------------------------------------------------------------------\u001b[0m",
            "\u001b[0;31mNameError\u001b[0m                                 Traceback (most recent call last)",
            "\u001b[0;32m<ipython-input-16-3c2e465a1341>\u001b[0m in \u001b[0;36m<module>\u001b[0;34m()\u001b[0m\n\u001b[0;32m----> 1\u001b[0;31m sulfite = df_bec[list(map(lambda x: x.find('PAPEL SULFITE') >=0 \n\u001b[0m\u001b[1;32m      2\u001b[0m                           \u001b[0;32mand\u001b[0m \u001b[0mx\u001b[0m\u001b[0;34m.\u001b[0m\u001b[0mfind\u001b[0m\u001b[0;34m(\u001b[0m\u001b[0;34m'A4'\u001b[0m\u001b[0;34m)\u001b[0m \u001b[0;34m>=\u001b[0m\u001b[0;36m0\u001b[0m\u001b[0;34m\u001b[0m\u001b[0;34m\u001b[0m\u001b[0m\n\u001b[1;32m      3\u001b[0m                           \u001b[0;32mand\u001b[0m \u001b[0mx\u001b[0m\u001b[0;34m.\u001b[0m\u001b[0mfind\u001b[0m\u001b[0;34m(\u001b[0m\u001b[0;34m'BRANCO'\u001b[0m\u001b[0;34m)\u001b[0m \u001b[0;34m>=\u001b[0m\u001b[0;36m0\u001b[0m\u001b[0;34m\u001b[0m\u001b[0;34m\u001b[0m\u001b[0m\n\u001b[1;32m      4\u001b[0m                           \u001b[0;32mand\u001b[0m \u001b[0mx\u001b[0m\u001b[0;34m.\u001b[0m\u001b[0mfind\u001b[0m\u001b[0;34m(\u001b[0m\u001b[0;34m'MILIMETRADO'\u001b[0m\u001b[0;34m)\u001b[0m \u001b[0;34m==\u001b[0m \u001b[0;34m-\u001b[0m\u001b[0;36m1\u001b[0m\u001b[0;34m\u001b[0m\u001b[0;34m\u001b[0m\u001b[0m\n\u001b[1;32m      5\u001b[0m                           , df_bec['Cod Desc Item']))]\n",
            "\u001b[0;31mNameError\u001b[0m: name 'df_bec' is not defined"
          ]
        }
      ]
    },
    {
      "cell_type": "markdown",
      "metadata": {
        "id": "9dpRACm3u1RX",
        "colab_type": "text"
      },
      "source": [
        "#### Exercício 5\n",
        "\n",
        "Crie 5 histogramas/kde (use sns.distplot), um para cada item, dos valores unitários negociados. Use para isso subplots e apresente o resultado em uma figura com 3 linhas e duas colunas. Coloque os títulos apropriados nos gráficos e use 5 cores diferentes, uma para cada um. "
      ]
    },
    {
      "cell_type": "code",
      "metadata": {
        "id": "oHCmogRvu1RX",
        "colab_type": "code",
        "colab": {}
      },
      "source": [
        "# solução\n",
        "#"
      ],
      "execution_count": 0,
      "outputs": []
    },
    {
      "cell_type": "markdown",
      "metadata": {
        "colab_type": "text",
        "id": "bCjo2eqlmrsj"
      },
      "source": [
        "### Dataset de diferentes ações da bolsa"
      ]
    },
    {
      "cell_type": "code",
      "metadata": {
        "colab_type": "code",
        "id": "mQUuzxAwKR3A",
        "outputId": "95cc3ee0-ff1b-4ac7-81c3-663dc263dd3b",
        "colab": {
          "base_uri": "https://localhost:8080/",
          "height": 215
        }
      },
      "source": [
        "df_acoes = pd.read_csv(path+'04-DS_ACOES.csv', error_bad_lines=False, sep=';', \n",
        "                       parse_dates=['Date'])\n",
        "df_acoes.set_index('Date', inplace=True)\n",
        "df_acoes.head(5)"
      ],
      "execution_count": 3,
      "outputs": [
        {
          "output_type": "error",
          "ename": "NameError",
          "evalue": "ignored",
          "traceback": [
            "\u001b[0;31m---------------------------------------------------------------------------\u001b[0m",
            "\u001b[0;31mNameError\u001b[0m                                 Traceback (most recent call last)",
            "\u001b[0;32m<ipython-input-3-e424949114e7>\u001b[0m in \u001b[0;36m<module>\u001b[0;34m()\u001b[0m\n\u001b[0;32m----> 1\u001b[0;31m df_acoes = pd.read_csv(path+'04-DS_ACOES.csv', error_bad_lines=False, sep=';', \n\u001b[0m\u001b[1;32m      2\u001b[0m                        parse_dates=['Date'])\n\u001b[1;32m      3\u001b[0m \u001b[0mdf_acoes\u001b[0m\u001b[0;34m.\u001b[0m\u001b[0mset_index\u001b[0m\u001b[0;34m(\u001b[0m\u001b[0;34m'Date'\u001b[0m\u001b[0;34m,\u001b[0m \u001b[0minplace\u001b[0m\u001b[0;34m=\u001b[0m\u001b[0;32mTrue\u001b[0m\u001b[0;34m)\u001b[0m\u001b[0;34m\u001b[0m\u001b[0;34m\u001b[0m\u001b[0m\n\u001b[1;32m      4\u001b[0m \u001b[0mdf_acoes\u001b[0m\u001b[0;34m.\u001b[0m\u001b[0mhead\u001b[0m\u001b[0;34m(\u001b[0m\u001b[0;36m5\u001b[0m\u001b[0;34m)\u001b[0m\u001b[0;34m\u001b[0m\u001b[0;34m\u001b[0m\u001b[0m\n",
            "\u001b[0;31mNameError\u001b[0m: name 'pd' is not defined"
          ]
        }
      ]
    },
    {
      "cell_type": "markdown",
      "metadata": {
        "colab_type": "text",
        "id": "G9ITq-E9DfGn"
      },
      "source": [
        "#### Exercício 6\n",
        "\n",
        "Apresentar a disstribuição de Valores unitários negociados para o item '4428692 - ACUCAR REFINADO'"
      ]
    },
    {
      "cell_type": "code",
      "metadata": {
        "colab_type": "code",
        "id": "3Yhzgd0bFrQj",
        "colab": {
          "base_uri": "https://localhost:8080/",
          "height": 181
        },
        "outputId": "84463cb1-1564-4d73-b273-3efb0f03a059"
      },
      "source": [
        "# solução\n",
        "df_acoes[df_acoes['Cod Desc Item'] == '4428692 - ACUCAR REFINADO', \n",
        "           'Valor Unitário Negociado'].plot.hist(bins=20)"
      ],
      "execution_count": 2,
      "outputs": [
        {
          "output_type": "error",
          "ename": "NameError",
          "evalue": "ignored",
          "traceback": [
            "\u001b[0;31m---------------------------------------------------------------------------\u001b[0m",
            "\u001b[0;31mNameError\u001b[0m                                 Traceback (most recent call last)",
            "\u001b[0;32m<ipython-input-2-2cd7268e7517>\u001b[0m in \u001b[0;36m<module>\u001b[0;34m()\u001b[0m\n\u001b[0;32m----> 1\u001b[0;31m df_acoes[df_acoes['Cod Desc Item'] == '4428692 - ACUCAR REFINADO', \n\u001b[0m\u001b[1;32m      2\u001b[0m            'Valor Unitário Negociado'].plot.hist(bins=20)\n",
            "\u001b[0;31mNameError\u001b[0m: name 'df_acoes' is not defined"
          ]
        }
      ]
    },
    {
      "cell_type": "markdown",
      "metadata": {
        "colab_type": "text",
        "id": "bFuVk6GLDmQL"
      },
      "source": [
        "#### Exercício 7\n",
        "\n",
        "Apresentação do Valor Unitário Negociado em Função da Quantidade Negociada incluído a reta de regrassão para item '4428692 - ACUCAR REFINADO'. Opcional - Remover outliers dos valores unitários negociados"
      ]
    },
    {
      "cell_type": "code",
      "metadata": {
        "colab_type": "code",
        "id": "_lxb9OCVHq9f",
        "colab": {
          "base_uri": "https://localhost:8080/",
          "height": 232
        },
        "outputId": "f06f58b6-7807-4233-a9c8-707bb3197854"
      },
      "source": [
        "# solução\n",
        "df_acucar = df_bec[df_bec['Cod Desc Item'] == \n",
        "            '4428692 - ACUCAR REFINADO']\n",
        "data = df_acucar[['Quantidade Negociada', 'Valor Unitário Negociado']]\n",
        "data = data[(data['Quantidade Negociada'] < 20000) & \n",
        "            (data['Valor Unitário Negociado'] < 120)]\n",
        "ax = sns.regplot(x='Quantidade Negociada', y='Valor Unitário Negociado', data=data)"
      ],
      "execution_count": 5,
      "outputs": [
        {
          "output_type": "error",
          "ename": "NameError",
          "evalue": "ignored",
          "traceback": [
            "\u001b[0;31m---------------------------------------------------------------------------\u001b[0m",
            "\u001b[0;31mNameError\u001b[0m                                 Traceback (most recent call last)",
            "\u001b[0;32m<ipython-input-5-95eb6b75359e>\u001b[0m in \u001b[0;36m<module>\u001b[0;34m()\u001b[0m\n\u001b[0;32m----> 1\u001b[0;31m df_acucar = df_bec[df_bec['Cod Desc Item'] == \n\u001b[0m\u001b[1;32m      2\u001b[0m             '4428692 - ACUCAR REFINADO']\n\u001b[1;32m      3\u001b[0m \u001b[0mdata\u001b[0m \u001b[0;34m=\u001b[0m \u001b[0mdf_acucar\u001b[0m\u001b[0;34m[\u001b[0m\u001b[0;34m[\u001b[0m\u001b[0;34m'Quantidade Negociada'\u001b[0m\u001b[0;34m,\u001b[0m \u001b[0;34m'Valor Unitário Negociado'\u001b[0m\u001b[0;34m]\u001b[0m\u001b[0;34m]\u001b[0m\u001b[0;34m\u001b[0m\u001b[0;34m\u001b[0m\u001b[0m\n\u001b[1;32m      4\u001b[0m data = data[(data['Quantidade Negociada'] < 20000) & \n\u001b[1;32m      5\u001b[0m             (data['Valor Unitário Negociado'] < 120)]\n",
            "\u001b[0;31mNameError\u001b[0m: name 'df_bec' is not defined"
          ]
        }
      ]
    },
    {
      "cell_type": "markdown",
      "metadata": {
        "colab_type": "text",
        "id": "vprrWxzaviH8"
      },
      "source": [
        "### Dataset de ocorrências criminais em SP"
      ]
    },
    {
      "cell_type": "code",
      "metadata": {
        "colab_type": "code",
        "id": "OoZqvDTpv574",
        "outputId": "dd2044a3-cdb8-4820-ac7a-7e5d5b10c7db",
        "colab": {}
      },
      "source": [
        "df_crime = pd.read_excel(path+'05-DS_CRIME_SP.xlsx', parse_dates=['DATA_OCORRENCIA_BO'], \n",
        "                         error_bad_lines=False)\n",
        "df_crime = df_crime[['RUBRICA', 'NOME_DELEGACIA', 'DATA_OCORRENCIA_BO', \n",
        "                     'HORA_OCORRENCIA_BO','DESCR_TIPOLOCAL', 'LOGRADOURO', \n",
        "                     'NUMERO_LOGRADOURO','SEXO_PESSOA', \n",
        "                     'IDADE_PESSOA','x', 'y']]\n",
        "df_crime.head(4)"
      ],
      "execution_count": 0,
      "outputs": [
        {
          "output_type": "execute_result",
          "data": {
            "text/html": [
              "<div>\n",
              "<style scoped>\n",
              "    .dataframe tbody tr th:only-of-type {\n",
              "        vertical-align: middle;\n",
              "    }\n",
              "\n",
              "    .dataframe tbody tr th {\n",
              "        vertical-align: top;\n",
              "    }\n",
              "\n",
              "    .dataframe thead th {\n",
              "        text-align: right;\n",
              "    }\n",
              "</style>\n",
              "<table border=\"1\" class=\"dataframe\">\n",
              "  <thead>\n",
              "    <tr style=\"text-align: right;\">\n",
              "      <th></th>\n",
              "      <th>RUBRICA</th>\n",
              "      <th>NOME_DELEGACIA</th>\n",
              "      <th>DATA_OCORRENCIA_BO</th>\n",
              "      <th>HORA_OCORRENCIA_BO</th>\n",
              "      <th>DESCR_TIPOLOCAL</th>\n",
              "      <th>LOGRADOURO</th>\n",
              "      <th>NUMERO_LOGRADOURO</th>\n",
              "      <th>SEXO_PESSOA</th>\n",
              "      <th>IDADE_PESSOA</th>\n",
              "      <th>x</th>\n",
              "      <th>y</th>\n",
              "    </tr>\n",
              "  </thead>\n",
              "  <tbody>\n",
              "    <tr>\n",
              "      <th>0</th>\n",
              "      <td>Roubo (art. 157)</td>\n",
              "      <td>40º D.P.  VILA STA MARIA</td>\n",
              "      <td>2015-05-21</td>\n",
              "      <td>21:00:00</td>\n",
              "      <td>Via pública</td>\n",
              "      <td>RUA DOMICIANO RIBEIRO</td>\n",
              "      <td>968.0</td>\n",
              "      <td>M</td>\n",
              "      <td>54</td>\n",
              "      <td>-5.195591e+05</td>\n",
              "      <td>-2.690467e+06</td>\n",
              "    </tr>\n",
              "    <tr>\n",
              "      <th>1</th>\n",
              "      <td>Roubo (art. 157)</td>\n",
              "      <td>75º D.P. JARDIM ARPOADOR</td>\n",
              "      <td>2015-06-24</td>\n",
              "      <td>06:40:00</td>\n",
              "      <td>Via pública</td>\n",
              "      <td>RUA FREI VITAL DE FRESCAROLO</td>\n",
              "      <td>30.0</td>\n",
              "      <td>M</td>\n",
              "      <td>16</td>\n",
              "      <td>-5.208704e+06</td>\n",
              "      <td>-2.704744e+06</td>\n",
              "    </tr>\n",
              "    <tr>\n",
              "      <th>2</th>\n",
              "      <td>Roubo (art. 157)</td>\n",
              "      <td>91º D.P. CEASA</td>\n",
              "      <td>2015-10-28</td>\n",
              "      <td>20:15:00</td>\n",
              "      <td>Via pública</td>\n",
              "      <td>RUA ALIANCA LIBERAL</td>\n",
              "      <td>286.0</td>\n",
              "      <td>M</td>\n",
              "      <td>56</td>\n",
              "      <td>-5.201337e+06</td>\n",
              "      <td>-2.695291e+06</td>\n",
              "    </tr>\n",
              "    <tr>\n",
              "      <th>3</th>\n",
              "      <td>Roubo (art. 157)</td>\n",
              "      <td>DEIC - 3ª DELEGACIA DA DIVECAR</td>\n",
              "      <td>2015-06-11</td>\n",
              "      <td>09:00:00</td>\n",
              "      <td>Via pública</td>\n",
              "      <td>RUA ANTONIO CRESPO</td>\n",
              "      <td>33.0</td>\n",
              "      <td>M</td>\n",
              "      <td>31</td>\n",
              "      <td>-5.169712e+06</td>\n",
              "      <td>-2.622279e+05</td>\n",
              "    </tr>\n",
              "  </tbody>\n",
              "</table>\n",
              "</div>"
            ],
            "text/plain": [
              "            RUBRICA                  NOME_DELEGACIA DATA_OCORRENCIA_BO  \\\n",
              "0  Roubo (art. 157)  40º D.P.  VILA STA MARIA               2015-05-21   \n",
              "1  Roubo (art. 157)  75º D.P. JARDIM ARPOADOR               2015-06-24   \n",
              "2  Roubo (art. 157)  91º D.P. CEASA                         2015-10-28   \n",
              "3  Roubo (art. 157)  DEIC - 3ª DELEGACIA DA DIVECAR         2015-06-11   \n",
              "\n",
              "  HORA_OCORRENCIA_BO                           DESCR_TIPOLOCAL  \\\n",
              "0           21:00:00  Via pública                                \n",
              "1           06:40:00  Via pública                                \n",
              "2           20:15:00  Via pública                                \n",
              "3           09:00:00  Via pública                                \n",
              "\n",
              "                                 LOGRADOURO  NUMERO_LOGRADOURO SEXO_PESSOA  \\\n",
              "0  RUA DOMICIANO RIBEIRO                                 968.0           M   \n",
              "1  RUA FREI VITAL DE FRESCAROLO                           30.0           M   \n",
              "2  RUA ALIANCA LIBERAL                                   286.0           M   \n",
              "3  RUA ANTONIO CRESPO                                     33.0           M   \n",
              "\n",
              "   IDADE_PESSOA             x             y  \n",
              "0            54 -5.195591e+05 -2.690467e+06  \n",
              "1            16 -5.208704e+06 -2.704744e+06  \n",
              "2            56 -5.201337e+06 -2.695291e+06  \n",
              "3            31 -5.169712e+06 -2.622279e+05  "
            ]
          },
          "metadata": {
            "tags": []
          },
          "execution_count": 16
        }
      ]
    },
    {
      "cell_type": "code",
      "metadata": {
        "colab_type": "code",
        "id": "DuFDGhTivp3f",
        "outputId": "16481be1-f28d-4f9e-a389-2cbb5f4e0131",
        "colab": {
          "base_uri": "https://localhost:8080/",
          "height": 538
        }
      },
      "source": [
        "df_crime['RUBRICA'].value_counts()"
      ],
      "execution_count": 0,
      "outputs": [
        {
          "output_type": "execute_result",
          "data": {
            "text/plain": [
              "Roubo (art. 157)                                                          81766\n",
              "Furto (art. 155)                                                          56104\n",
              "Lesão corporal (art. 129)                                                 12865\n",
              "Furto qualificado (art. 155, §4o.)                                        11989\n",
              "Lesão corporal culposa na direção de veículo automotor (Art. 303)         11374\n",
              "Lesão corporal (art 129 § 9º)                                              2757\n",
              "A.I.-Roubo (art. 157)                                                      2083\n",
              "Homicídio simples (art. 121)                                               1365\n",
              "A.I.-Lesão corporal (art. 129)                                             1055\n",
              "Lesão corporal culposa (art. 129. §6o.)                                     480\n",
              "A.I.-Furto (art. 155)                                                       336\n",
              "Homicídio culposo na direção de veículo automotor (Art. 302)                286\n",
              "Homicídio qualificado (art. 121, §2o.)                                      238\n",
              "A.I.-Furto qualificado (art. 155, §4o.)                                     189\n",
              "A.I.-Lesão corporal culposa na direção de veículo automotor (Art. 303)      103\n",
              "Lesão corporal de natureza GRAVE (art. 129, §1o.)                            66\n",
              "A.I.-Homicídio simples (art. 121)                                            36\n",
              "A.I.-Lesão corporal (art 129 § 9º)                                           35\n",
              "Furto de coisa comum (art. 156)                                              14\n",
              "Homicídio culposo (art. 121, §3o.)                                           14\n",
              "Lesão corporal seguida de morte (art. 129, §3o.)                             12\n",
              "A.I.-Homicídio qualificado (art. 121, §2o.)                                   9\n",
              "A.I.-Lesão corporal culposa (art. 129. §6o.)                                  6\n",
              "A.I.-Homicídio culposo na direção de veículo automotor (Art. 302)             5\n",
              "Lesão corporal  de natureza 'GRAVÍSSIMA' (art. 129, §2o.)                     4\n",
              "A.I.-Lesão corporal de natureza GRAVE (art. 129, §1o.)                        1\n",
              "Name: RUBRICA, dtype: int64"
            ]
          },
          "metadata": {
            "tags": []
          },
          "execution_count": 17
        }
      ]
    },
    {
      "cell_type": "markdown",
      "metadata": {
        "id": "q1JHfEFNvuRS",
        "colab_type": "text"
      },
      "source": [
        "#### Exercício 8\n",
        "\n",
        "Plote no mapa todas as ocorrências de roubo e furto, incluindo os Autos Infracionais (A.I.)"
      ]
    },
    {
      "cell_type": "code",
      "metadata": {
        "id": "zJesX6bWu1Rk",
        "colab_type": "code",
        "colab": {
          "base_uri": "https://localhost:8080/",
          "height": 232
        },
        "outputId": "903f58c5-8255-4d8b-de81-34db9e92ffd4"
      },
      "source": [
        "# solução\n",
        "# filtro de dados da rubrica\n",
        "df_roubo = df_crime.loc[df_crime['RUBRICA'] == 'Homicídio simples (art. 121)', \n",
        "                        ['RUBRICA', 'x', 'y']].dropna()\n",
        "SP = y_range, x_range =  ((-2753408,-2632018), (-5232016, -5120696))\n",
        "p = figure(x_range=x_range, y_range=y_range, x_axis_type=\"mercator\", \n",
        "           y_axis_type=\"mercator\")\n",
        "url = 'http://a.basemaps.cartocdn.com/rastertiles/voyager/{Z}/{X}/{Y}.png'\n",
        "attribution = \"Tiles by Carto, under CC BY 3.0. Data by OSM, under ODbL\"\n",
        "p.add_tile(WMTSTileSource(url=url, attribution=attribution))\n",
        "p.square(x=df_roubo['x'], y=df_roubo['y'], fill_color='blue', size=15)\n",
        "output_notebook()\n",
        "show(p)"
      ],
      "execution_count": 8,
      "outputs": [
        {
          "output_type": "error",
          "ename": "NameError",
          "evalue": "ignored",
          "traceback": [
            "\u001b[0;31m---------------------------------------------------------------------------\u001b[0m",
            "\u001b[0;31mNameError\u001b[0m                                 Traceback (most recent call last)",
            "\u001b[0;32m<ipython-input-8-ec95e3eaac48>\u001b[0m in \u001b[0;36m<module>\u001b[0;34m()\u001b[0m\n\u001b[0;32m----> 1\u001b[0;31m df_roubo = df_crime.loc[df_crime['RUBRICA'] == 'Homicídio simples (art. 121)', \n\u001b[0m\u001b[1;32m      2\u001b[0m                         ['RUBRICA', 'x', 'y']].dropna()\n\u001b[1;32m      3\u001b[0m \u001b[0mSP\u001b[0m \u001b[0;34m=\u001b[0m \u001b[0my_range\u001b[0m\u001b[0;34m,\u001b[0m \u001b[0mx_range\u001b[0m \u001b[0;34m=\u001b[0m  \u001b[0;34m(\u001b[0m\u001b[0;34m(\u001b[0m\u001b[0;34m-\u001b[0m\u001b[0;36m2753408\u001b[0m\u001b[0;34m,\u001b[0m\u001b[0;34m-\u001b[0m\u001b[0;36m2632018\u001b[0m\u001b[0;34m)\u001b[0m\u001b[0;34m,\u001b[0m \u001b[0;34m(\u001b[0m\u001b[0;34m-\u001b[0m\u001b[0;36m5232016\u001b[0m\u001b[0;34m,\u001b[0m \u001b[0;34m-\u001b[0m\u001b[0;36m5120696\u001b[0m\u001b[0;34m)\u001b[0m\u001b[0;34m)\u001b[0m\u001b[0;34m\u001b[0m\u001b[0;34m\u001b[0m\u001b[0m\n\u001b[1;32m      4\u001b[0m p = figure(x_range=x_range, y_range=y_range, x_axis_type=\"mercator\", \n\u001b[1;32m      5\u001b[0m            y_axis_type=\"mercator\")\n",
            "\u001b[0;31mNameError\u001b[0m: name 'df_crime' is not defined"
          ]
        }
      ]
    },
    {
      "cell_type": "code",
      "metadata": {
        "id": "-ac3tn2Au1Rm",
        "colab_type": "code",
        "colab": {}
      },
      "source": [
        "# solução gráfica\n",
        "#"
      ],
      "execution_count": 0,
      "outputs": []
    }
  ]
}